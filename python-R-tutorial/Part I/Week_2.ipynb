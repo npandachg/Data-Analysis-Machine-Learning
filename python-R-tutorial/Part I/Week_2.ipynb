{
 "cells": [
  {
   "cell_type": "markdown",
   "metadata": {},
   "source": [
    "Content from https://github.com/StatsWithR\n",
    "and https://www.coursera.org/specializations/statistics\n",
    "data from https://github.com/StatsWithR/statsr\n",
    "\n",
    "Some define statistics as the field that focuses on turning information into\n",
    "knowledge. The first step in that process is to summarize and describe the raw\n",
    "information - the data. \n",
    "\n",
    "In this lab we explore flights, specifically a random\n",
    "sample of domestic flights that departed from the three major \n",
    "New York City airport in 2013. We will generate simple graphical and numerical \n",
    "summaries of data on these flights and explore delay times. As this is a large \n",
    "data set, along the way you'll also learn the indispensable skills of data \n",
    "processing and subsetting.\n",
    "\n"
   ]
  },
  {
   "cell_type": "code",
   "execution_count": 1,
   "metadata": {
    "collapsed": true
   },
   "outputs": [],
   "source": [
    "# Load packages\n",
    "import pandas as pd\n",
    "from pandas import Series,DataFrame\n",
    "import numpy as np\n",
    "from __future__ import division"
   ]
  },
  {
   "cell_type": "code",
   "execution_count": 2,
   "metadata": {},
   "outputs": [],
   "source": [
    "# Load plotting packages\n",
    "import seaborn as sns\n",
    "from matplotlib import *\n",
    "import matplotlib.pyplot as plt\n",
    "%matplotlib inline"
   ]
  },
  {
   "cell_type": "code",
   "execution_count": 3,
   "metadata": {
    "collapsed": true
   },
   "outputs": [],
   "source": [
    "# Load data\n",
    "nycflights = pd.read_csv(\"../../data-files/nycflights.csv\")"
   ]
  },
  {
   "cell_type": "code",
   "execution_count": 4,
   "metadata": {},
   "outputs": [
    {
     "name": "stdout",
     "output_type": "stream",
     "text": [
      "<class 'pandas.core.frame.DataFrame'>\n",
      "RangeIndex: 32735 entries, 0 to 32734\n",
      "Data columns (total 17 columns):\n",
      "Unnamed: 0    32735 non-null int64\n",
      "year          32735 non-null int64\n",
      "month         32735 non-null int64\n",
      "day           32735 non-null int64\n",
      "dep_time      32735 non-null int64\n",
      "dep_delay     32735 non-null int64\n",
      "arr_time      32735 non-null int64\n",
      "arr_delay     32735 non-null int64\n",
      "carrier       32735 non-null object\n",
      "tailnum       32735 non-null object\n",
      "flight        32735 non-null int64\n",
      "origin        32735 non-null object\n",
      "dest          32735 non-null object\n",
      "air_time      32735 non-null int64\n",
      "distance      32735 non-null int64\n",
      "hour          32735 non-null int64\n",
      "minute        32735 non-null int64\n",
      "dtypes: int64(13), object(4)\n",
      "memory usage: 4.2+ MB\n"
     ]
    }
   ],
   "source": [
    "# get the basic info about the data \n",
    "nycflights.info()"
   ]
  },
  {
   "cell_type": "code",
   "execution_count": 5,
   "metadata": {
    "collapsed": true
   },
   "outputs": [],
   "source": [
    "# Again let us remove the R index Unnamed: 0\n",
    "del(nycflights['Unnamed: 0'])"
   ]
  },
  {
   "cell_type": "code",
   "execution_count": 6,
   "metadata": {},
   "outputs": [
    {
     "name": "stdout",
     "output_type": "stream",
     "text": [
      "<class 'pandas.core.frame.DataFrame'>\n",
      "RangeIndex: 32735 entries, 0 to 32734\n",
      "Data columns (total 16 columns):\n",
      "year         32735 non-null int64\n",
      "month        32735 non-null int64\n",
      "day          32735 non-null int64\n",
      "dep_time     32735 non-null int64\n",
      "dep_delay    32735 non-null int64\n",
      "arr_time     32735 non-null int64\n",
      "arr_delay    32735 non-null int64\n",
      "carrier      32735 non-null object\n",
      "tailnum      32735 non-null object\n",
      "flight       32735 non-null int64\n",
      "origin       32735 non-null object\n",
      "dest         32735 non-null object\n",
      "air_time     32735 non-null int64\n",
      "distance     32735 non-null int64\n",
      "hour         32735 non-null int64\n",
      "minute       32735 non-null int64\n",
      "dtypes: int64(12), object(4)\n",
      "memory usage: 4.0+ MB\n"
     ]
    }
   ],
   "source": [
    "# Our datframe is a 32735 x 16 matrix. \n",
    "nycflights.info()"
   ]
  },
  {
   "cell_type": "markdown",
   "metadata": {},
   "source": [
    "7 basic steps in DataAnalysis. We list the R methods (dplyr) and the corresponding Pandas functions in python\n",
    "1. filter()  ->                      df.query()\n",
    "+  arrange() ->                    df.sort_values()\n",
    "+  select()  ->                    df[[col1,col3]] or df.loc[:, col1:col3]\n",
    "+  distinct() ->                   df[col1].drop_duplicates()\n",
    "+  mutate()   ->                   df.assign()\n",
    "+  summarise()  ->                 df.groupby(col1).agg() or .apply or .sum() \n",
    "+  sample_n()   ->                 df.sample(n=)"
   ]
  },
  {
   "cell_type": "markdown",
   "metadata": {},
   "source": [
    "Filtering"
   ]
  },
  {
   "cell_type": "code",
   "execution_count": 7,
   "metadata": {},
   "outputs": [
    {
     "data": {
      "text/plain": [
       "<matplotlib.axes._subplots.AxesSubplot at 0x119260050>"
      ]
     },
     "execution_count": 7,
     "metadata": {},
     "output_type": "execute_result"
    },
    {
     "data": {
      "image/png": "[encoded data removed]",
      "text/plain": [
       "<matplotlib.figure.Figure at 0x1137b6fd0>"
      ]
     },
     "metadata": {},
     "output_type": "display_data"
    }
   ],
   "source": [
    "# First let us look at some distributions\n",
    "nycflights['dep_delay'].hist(bins=30)"
   ]
  },
  {
   "cell_type": "code",
   "execution_count": 8,
   "metadata": {},
   "outputs": [
    {
     "data": {
      "text/plain": [
       "<matplotlib.axes._subplots.AxesSubplot at 0x119d027d0>"
      ]
     },
     "execution_count": 8,
     "metadata": {},
     "output_type": "execute_result"
    },
    {
     "data": {
      "image/png": "[encoded data removed]",
      "text/plain": [
       "<matplotlib.figure.Figure at 0x119196ed0>"
      ]
     },
     "metadata": {},
     "output_type": "display_data"
    }
   ],
   "source": [
    "# Most action is within 300. Lets focus on this region. \n",
    "# This is called filtering : Where we select a portion of the data set\n",
    "delay_300 = nycflights['dep_delay'] <= 300\n",
    "nycflights[delay_300]['dep_delay'].hist(bins=30)\n",
    "# We see a more detailed right skewed distribution"
   ]
  },
  {
   "cell_type": "code",
   "execution_count": 9,
   "metadata": {},
   "outputs": [
    {
     "data": {
      "text/plain": [
       "0        LAX\n",
       "1        SJU\n",
       "2        LAX\n",
       "3        TPA\n",
       "4        ORF\n",
       "5        ORD\n",
       "6        HOU\n",
       "7        IAD\n",
       "8        MIA\n",
       "9        JAX\n",
       "10       ROC\n",
       "11       RSW\n",
       "12       DAY\n",
       "13       ATL\n",
       "14       BTV\n",
       "15       BUF\n",
       "16       DCA\n",
       "17       FLL\n",
       "18       ORD\n",
       "19       SFO\n",
       "20       PIT\n",
       "21       PBI\n",
       "22       PBI\n",
       "23       DEN\n",
       "24       CLT\n",
       "25       CMH\n",
       "26       CLT\n",
       "27       BUF\n",
       "28       LAS\n",
       "29       DTW\n",
       "        ... \n",
       "32705    MSY\n",
       "32706    SJU\n",
       "32707    CLT\n",
       "32708    BNA\n",
       "32709    LAX\n",
       "32710    PBI\n",
       "32711    PBI\n",
       "32712    LAX\n",
       "32713    PHL\n",
       "32714    SLC\n",
       "32715    ATL\n",
       "32716    DTW\n",
       "32717    MDW\n",
       "32718    DCA\n",
       "32719    RDU\n",
       "32720    SFO\n",
       "32721    PWM\n",
       "32722    DFW\n",
       "32723    BWI\n",
       "32724    MKE\n",
       "32725    RDU\n",
       "32726    DEN\n",
       "32727    BOS\n",
       "32728    ORD\n",
       "32729    IND\n",
       "32730    PIT\n",
       "32731    LAS\n",
       "32732    IAH\n",
       "32733    CHS\n",
       "32734    CLE\n",
       "Name: dest, dtype: object"
      ]
     },
     "execution_count": 9,
     "metadata": {},
     "output_type": "execute_result"
    }
   ],
   "source": [
    "# What if we are interested in departures delay to a particular destination. \n",
    "# First Let us look at all the destinations\n",
    "nycflights['dest']"
   ]
  },
  {
   "cell_type": "code",
   "execution_count": 10,
   "metadata": {},
   "outputs": [
    {
     "name": "stdout",
     "output_type": "stream",
     "text": [
      "ATL    1653\n",
      "ORD    1588\n",
      "LAX    1583\n",
      "BOS    1470\n",
      "CLT    1383\n",
      "MCO    1376\n",
      "SFO    1345\n",
      "MIA    1220\n",
      "FLL    1183\n",
      "DCA     963\n",
      "DTW     889\n",
      "DFW     851\n",
      "RDU     801\n",
      "TPA     746\n",
      "DEN     736\n",
      "IAH     729\n",
      "MSP     712\n",
      "PBI     620\n",
      "SJU     587\n",
      "LAS     584\n",
      "BNA     557\n",
      "IAD     535\n",
      "BUF     488\n",
      "PHX     456\n",
      "MDW     437\n",
      "STL     430\n",
      "CLE     415\n",
      "SEA     370\n",
      "CVG     360\n",
      "RSW     348\n",
      "       ... \n",
      "PVD      43\n",
      "BGR      42\n",
      "PSE      39\n",
      "DSM      37\n",
      "ALB      37\n",
      "BHM      34\n",
      "SJC      33\n",
      "BUR      31\n",
      "OKC      29\n",
      "AVL      26\n",
      "EGE      25\n",
      "OAK      25\n",
      "TUL      25\n",
      "ACK      24\n",
      "SMF      23\n",
      "ABQ      22\n",
      "MVY      16\n",
      "CRW      12\n",
      "ILM      11\n",
      "CAE       9\n",
      "TVC       6\n",
      "MYR       4\n",
      "PSP       2\n",
      "MTJ       2\n",
      "BZN       2\n",
      "JAC       2\n",
      "HDN       2\n",
      "EYW       1\n",
      "CHO       1\n",
      "ANC       1\n",
      "Name: dest, dtype: int64\n",
      "102\n"
     ]
    }
   ],
   "source": [
    "# There are a lot of them. How may unique destinations are there? We need a frequency table for\n",
    "# this.\n",
    "print nycflights['dest'].value_counts()\n",
    "print len(nycflights['dest'].value_counts())"
   ]
  },
  {
   "cell_type": "code",
   "execution_count": 11,
   "metadata": {},
   "outputs": [
    {
     "data": {
      "text/plain": [
       "<matplotlib.axes._subplots.AxesSubplot at 0x119175710>"
      ]
     },
     "execution_count": 11,
     "metadata": {},
     "output_type": "execute_result"
    },
    {
     "data": {
      "image/png": "[encoded data removed]",
      "text/plain": [
       "<matplotlib.figure.Figure at 0x1024acd90>"
      ]
     },
     "metadata": {},
     "output_type": "display_data"
    }
   ],
   "source": [
    "# We are interested in dep delays to RDU (Raleigh-Durham International Airport). \n",
    "# Need to filter our data again.\n",
    "rdu = nycflights['dest'] == 'RDU'\n",
    "nycflights[rdu]['dep_delay'].hist(bins=30)\n"
   ]
  },
  {
   "cell_type": "code",
   "execution_count": 12,
   "metadata": {},
   "outputs": [
    {
     "data": {
      "text/plain": [
       "<matplotlib.axes._subplots.AxesSubplot at 0x11ce6df50>"
      ]
     },
     "execution_count": 12,
     "metadata": {},
     "output_type": "execute_result"
    },
    {
     "data": {
      "image/png": "[encoded data removed]",
      "text/plain": [
       "<matplotlib.figure.Figure at 0x11ce813d0>"
      ]
     },
     "metadata": {},
     "output_type": "display_data"
    }
   ],
   "source": [
    "# Here most of the action is within 200. Lets filter again.\n",
    "delay_200 = nycflights['dep_delay'] <= 200\n",
    "# We need delay times less than 200 AND destination to RDU. We use the bitwise and\n",
    "nycflights[rdu & delay_200]['dep_delay'].hist(bins=20)"
   ]
  },
  {
   "cell_type": "code",
   "execution_count": 13,
   "metadata": {},
   "outputs": [
    {
     "name": "stdout",
     "output_type": "stream",
     "text": [
      "There are 68 flights to SFO in Feb\n"
     ]
    }
   ],
   "source": [
    "# Suppose we are interested in number of flights headed to SFO in Feb\n",
    "# We filter for dest == SFO and month == Feb\n",
    "san_fran = nycflights['dest'] == 'SFO'\n",
    "feb = nycflights['month'] == 2\n",
    "san_flight_feb = nycflights[san_fran & feb]\n",
    "print \"There are \" + str(len(san_flight_feb)) + \" flights to SFO in Feb\""
   ]
  },
  {
   "cell_type": "markdown",
   "metadata": {},
   "source": [
    "Summarise"
   ]
  },
  {
   "cell_type": "code",
   "execution_count": 14,
   "metadata": {},
   "outputs": [
    {
     "data": {
      "text/html": [
       "<div>\n",
       "<table border=\"1\" class=\"dataframe\">\n",
       "  <thead>\n",
       "    <tr style=\"text-align: right;\">\n",
       "      <th></th>\n",
       "      <th>year</th>\n",
       "      <th>month</th>\n",
       "      <th>day</th>\n",
       "      <th>dep_time</th>\n",
       "      <th>dep_delay</th>\n",
       "      <th>arr_time</th>\n",
       "      <th>arr_delay</th>\n",
       "      <th>flight</th>\n",
       "      <th>air_time</th>\n",
       "      <th>distance</th>\n",
       "      <th>hour</th>\n",
       "      <th>minute</th>\n",
       "    </tr>\n",
       "  </thead>\n",
       "  <tbody>\n",
       "    <tr>\n",
       "      <th>count</th>\n",
       "      <td>32735.0</td>\n",
       "      <td>32735.000000</td>\n",
       "      <td>32735.000000</td>\n",
       "      <td>32735.000000</td>\n",
       "      <td>32735.000000</td>\n",
       "      <td>32735.000000</td>\n",
       "      <td>32735.000000</td>\n",
       "      <td>32735.000000</td>\n",
       "      <td>32735.000000</td>\n",
       "      <td>32735.000000</td>\n",
       "      <td>32735.000000</td>\n",
       "      <td>32735.000000</td>\n",
       "    </tr>\n",
       "    <tr>\n",
       "      <th>mean</th>\n",
       "      <td>2013.0</td>\n",
       "      <td>6.576081</td>\n",
       "      <td>15.777241</td>\n",
       "      <td>1349.265862</td>\n",
       "      <td>12.705147</td>\n",
       "      <td>1502.907408</td>\n",
       "      <td>7.100810</td>\n",
       "      <td>1947.796579</td>\n",
       "      <td>150.441912</td>\n",
       "      <td>1046.244051</td>\n",
       "      <td>13.174462</td>\n",
       "      <td>31.819704</td>\n",
       "    </tr>\n",
       "    <tr>\n",
       "      <th>std</th>\n",
       "      <td>0.0</td>\n",
       "      <td>3.413269</td>\n",
       "      <td>8.793983</td>\n",
       "      <td>488.690994</td>\n",
       "      <td>40.407426</td>\n",
       "      <td>532.412363</td>\n",
       "      <td>44.687329</td>\n",
       "      <td>1621.204308</td>\n",
       "      <td>93.527663</td>\n",
       "      <td>733.681907</td>\n",
       "      <td>4.899536</td>\n",
       "      <td>18.226010</td>\n",
       "    </tr>\n",
       "    <tr>\n",
       "      <th>min</th>\n",
       "      <td>2013.0</td>\n",
       "      <td>1.000000</td>\n",
       "      <td>1.000000</td>\n",
       "      <td>1.000000</td>\n",
       "      <td>-21.000000</td>\n",
       "      <td>1.000000</td>\n",
       "      <td>-73.000000</td>\n",
       "      <td>1.000000</td>\n",
       "      <td>22.000000</td>\n",
       "      <td>94.000000</td>\n",
       "      <td>0.000000</td>\n",
       "      <td>0.000000</td>\n",
       "    </tr>\n",
       "    <tr>\n",
       "      <th>25%</th>\n",
       "      <td>2013.0</td>\n",
       "      <td>4.000000</td>\n",
       "      <td>8.000000</td>\n",
       "      <td>908.000000</td>\n",
       "      <td>-5.000000</td>\n",
       "      <td>1106.000000</td>\n",
       "      <td>-17.000000</td>\n",
       "      <td>550.000000</td>\n",
       "      <td>82.000000</td>\n",
       "      <td>502.000000</td>\n",
       "      <td>9.000000</td>\n",
       "      <td>16.000000</td>\n",
       "    </tr>\n",
       "    <tr>\n",
       "      <th>50%</th>\n",
       "      <td>2013.0</td>\n",
       "      <td>7.000000</td>\n",
       "      <td>16.000000</td>\n",
       "      <td>1358.000000</td>\n",
       "      <td>-2.000000</td>\n",
       "      <td>1537.000000</td>\n",
       "      <td>-5.000000</td>\n",
       "      <td>1473.000000</td>\n",
       "      <td>129.000000</td>\n",
       "      <td>888.000000</td>\n",
       "      <td>13.000000</td>\n",
       "      <td>32.000000</td>\n",
       "    </tr>\n",
       "    <tr>\n",
       "      <th>75%</th>\n",
       "      <td>2013.0</td>\n",
       "      <td>10.000000</td>\n",
       "      <td>23.000000</td>\n",
       "      <td>1744.000000</td>\n",
       "      <td>11.000000</td>\n",
       "      <td>1939.000000</td>\n",
       "      <td>14.000000</td>\n",
       "      <td>3416.000000</td>\n",
       "      <td>191.000000</td>\n",
       "      <td>1391.000000</td>\n",
       "      <td>17.000000</td>\n",
       "      <td>49.000000</td>\n",
       "    </tr>\n",
       "    <tr>\n",
       "      <th>max</th>\n",
       "      <td>2013.0</td>\n",
       "      <td>12.000000</td>\n",
       "      <td>31.000000</td>\n",
       "      <td>2400.000000</td>\n",
       "      <td>1301.000000</td>\n",
       "      <td>2400.000000</td>\n",
       "      <td>1272.000000</td>\n",
       "      <td>6181.000000</td>\n",
       "      <td>686.000000</td>\n",
       "      <td>4983.000000</td>\n",
       "      <td>24.000000</td>\n",
       "      <td>59.000000</td>\n",
       "    </tr>\n",
       "  </tbody>\n",
       "</table>\n",
       "</div>"
      ],
      "text/plain": [
       "          year         month           day      dep_time     dep_delay  \\\n",
       "count  32735.0  32735.000000  32735.000000  32735.000000  32735.000000   \n",
       "mean    2013.0      6.576081     15.777241   1349.265862     12.705147   \n",
       "std        0.0      3.413269      8.793983    488.690994     40.407426   \n",
       "min     2013.0      1.000000      1.000000      1.000000    -21.000000   \n",
       "25%     2013.0      4.000000      8.000000    908.000000     -5.000000   \n",
       "50%     2013.0      7.000000     16.000000   1358.000000     -2.000000   \n",
       "75%     2013.0     10.000000     23.000000   1744.000000     11.000000   \n",
       "max     2013.0     12.000000     31.000000   2400.000000   1301.000000   \n",
       "\n",
       "           arr_time     arr_delay        flight      air_time      distance  \\\n",
       "count  32735.000000  32735.000000  32735.000000  32735.000000  32735.000000   \n",
       "mean    1502.907408      7.100810   1947.796579    150.441912   1046.244051   \n",
       "std      532.412363     44.687329   1621.204308     93.527663    733.681907   \n",
       "min        1.000000    -73.000000      1.000000     22.000000     94.000000   \n",
       "25%     1106.000000    -17.000000    550.000000     82.000000    502.000000   \n",
       "50%     1537.000000     -5.000000   1473.000000    129.000000    888.000000   \n",
       "75%     1939.000000     14.000000   3416.000000    191.000000   1391.000000   \n",
       "max     2400.000000   1272.000000   6181.000000    686.000000   4983.000000   \n",
       "\n",
       "               hour        minute  \n",
       "count  32735.000000  32735.000000  \n",
       "mean      13.174462     31.819704  \n",
       "std        4.899536     18.226010  \n",
       "min        0.000000      0.000000  \n",
       "25%        9.000000     16.000000  \n",
       "50%       13.000000     32.000000  \n",
       "75%       17.000000     49.000000  \n",
       "max       24.000000     59.000000  "
      ]
     },
     "execution_count": 14,
     "metadata": {},
     "output_type": "execute_result"
    }
   ],
   "source": [
    "# First let us get the summary statistics for all the variables in the data frame\n",
    "nycflights.describe()"
   ]
  },
  {
   "cell_type": "code",
   "execution_count": 15,
   "metadata": {},
   "outputs": [
    {
     "data": {
      "text/plain": [
       "EWR    11771\n",
       "JFK    10897\n",
       "LGA    10067\n",
       "Name: origin, dtype: int64"
      ]
     },
     "execution_count": 15,
     "metadata": {},
     "output_type": "execute_result"
    }
   ],
   "source": [
    "# We want summary statistics of the dep_delay but for specific groups. For example the mean dep_delay\n",
    "# for flights originating from each of the 3 airports.\n",
    "nycflights['origin'].value_counts()"
   ]
  },
  {
   "cell_type": "markdown",
   "metadata": {},
   "source": [
    "This is part of a basic techinque called split-apply-combine. We use groupby to split the data \n",
    "frame into different groups and then combine them using some functions."
   ]
  },
  {
   "cell_type": "code",
   "execution_count": 16,
   "metadata": {},
   "outputs": [
    {
     "data": {
      "text/plain": [
       "origin\n",
       "EWR    15.310339\n",
       "JFK    12.265486\n",
       "LGA    10.134896\n",
       "Name: dep_delay, dtype: float64"
      ]
     },
     "execution_count": 16,
     "metadata": {},
     "output_type": "execute_result"
    }
   ],
   "source": [
    "# Lets group the dep_delay by origin and apply the mean function\n",
    "nycflights['dep_delay'].groupby(nycflights['origin']).agg('mean')"
   ]
  },
  {
   "cell_type": "code",
   "execution_count": 17,
   "metadata": {},
   "outputs": [
    {
     "data": {
      "text/plain": [
       "origin       \n",
       "EWR     count    11771.000000\n",
       "        mean        15.310339\n",
       "        std         41.755376\n",
       "        min        -20.000000\n",
       "        25%         -4.000000\n",
       "        50%         -1.000000\n",
       "        75%         15.000000\n",
       "        max        849.000000\n",
       "JFK     count    10897.000000\n",
       "        mean        12.265486\n",
       "        std         40.031590\n",
       "        min        -17.000000\n",
       "        25%         -5.000000\n",
       "        50%         -1.000000\n",
       "        75%         10.000000\n",
       "        max       1301.000000\n",
       "LGA     count    10067.000000\n",
       "        mean        10.134896\n",
       "        std         39.007138\n",
       "        min        -21.000000\n",
       "        25%         -6.000000\n",
       "        50%         -3.000000\n",
       "        75%          7.000000\n",
       "        max        803.000000\n",
       "dtype: float64"
      ]
     },
     "execution_count": 17,
     "metadata": {},
     "output_type": "execute_result"
    }
   ],
   "source": [
    "# We can use the describe() method as an apply-combine function to get summary statistics\n",
    "nycflights['dep_delay'].groupby(nycflights['origin']).describe()"
   ]
  },
  {
   "cell_type": "markdown",
   "metadata": {},
   "source": [
    "Summarise and arrange\n",
    "\n",
    "Which month would you expect to have the highest average delay departing from an NYC airport?\n",
    "\n",
    "Let’s think about how we would answer this question:\n",
    "\n",
    "First, calculate monthly averages for departure delays. With the new language we are learning, we need to\n",
    "group_by months, then\n",
    "summarise mean departure delays.\n",
    "Then, we need to arrange these average delays in descending order"
   ]
  },
  {
   "cell_type": "code",
   "execution_count": 18,
   "metadata": {},
   "outputs": [
    {
     "data": {
      "text/plain": [
       "month\n",
       "7     20.754559\n",
       "6     20.350293\n",
       "12    17.368189\n",
       "4     14.554477\n",
       "3     13.517602\n",
       "5     13.264800\n",
       "8     12.619097\n",
       "2     10.687227\n",
       "1     10.233333\n",
       "9      6.872436\n",
       "11     6.103183\n",
       "10     5.880374\n",
       "Name: dep_delay, dtype: float64"
      ]
     },
     "execution_count": 18,
     "metadata": {},
     "output_type": "execute_result"
    }
   ],
   "source": [
    "mon_del = nycflights['dep_delay'].groupby(nycflights['month']).agg('mean')\n",
    "mon_del.sort_values(ascending=False)"
   ]
  },
  {
   "cell_type": "code",
   "execution_count": 19,
   "metadata": {},
   "outputs": [
    {
     "data": {
      "text/plain": [
       "<matplotlib.axes._subplots.AxesSubplot at 0x11d0b09d0>"
      ]
     },
     "execution_count": 19,
     "metadata": {},
     "output_type": "execute_result"
    },
    {
     "data": {
      "image/png": "[encoded data removed]",
      "text/plain": [
       "<matplotlib.figure.Figure at 0x11cea5190>"
      ]
     },
     "metadata": {},
     "output_type": "display_data"
    }
   ],
   "source": [
    "# We can visualize this also by a boxplot\n",
    "sns.boxplot(x='month', y='dep_delay', data=nycflights)"
   ]
  },
  {
   "cell_type": "code",
   "execution_count": 20,
   "metadata": {},
   "outputs": [
    {
     "data": {
      "text/plain": [
       "<matplotlib.axes._subplots.AxesSubplot at 0x11d930510>"
      ]
     },
     "execution_count": 20,
     "metadata": {},
     "output_type": "execute_result"
    },
    {
     "data": {
      "image/png": "[encoded data removed]",
      "text/plain": [
       "<matplotlib.figure.Figure at 0x11ce67910>"
      ]
     },
     "metadata": {},
     "output_type": "display_data"
    }
   ],
   "source": [
    "# Again we see most of the \"action\" is around a 100, so lets filter that out in our box plot\n",
    "delay_100 = nycflights['dep_delay'] <= 100\n",
    "sns.boxplot(x='month', y='dep_delay', data=nycflights[delay_100])"
   ]
  },
  {
   "cell_type": "markdown",
   "metadata": {},
   "source": [
    "Suppose you will be flying out of NYC and want to know which of the three major NYC airports has the best on time departure rate of departing flights. Suppose also that for you a flight that is delayed for less than 5 minutes is basically “on time”. You consider any flight delayed for 5 minutes of more to be “delayed”.\n",
    "\n",
    "In order to determine which airport has the best on time departure rate, we need to\n",
    "\n",
    "first classify each flight as “on time” or “delayed”,\n",
    "then group flights by origin airport,\n",
    "then calculate on time departure rates for each origin airport,\n",
    "and finally arrange the airports in descending order for on time departure percentage."
   ]
  },
  {
   "cell_type": "code",
   "execution_count": 21,
   "metadata": {},
   "outputs": [],
   "source": [
    "# First classify each flight as on time or delayed : Mutate 1 for delay < 5 and 0 for >= 5\n",
    "# Here we create an indicator variable\n",
    "nycflights =  nycflights.assign(dep_type = (nycflights['dep_delay'] < 5).astype(int))"
   ]
  },
  {
   "cell_type": "code",
   "execution_count": 22,
   "metadata": {},
   "outputs": [],
   "source": [
    "# group by origin airport\n",
    "group_origin = nycflights.groupby(nycflights['origin'])"
   ]
  },
  {
   "cell_type": "code",
   "execution_count": 23,
   "metadata": {
    "collapsed": true
   },
   "outputs": [],
   "source": [
    "# create an aggregate function on the column dep_type. In general, this is a dictionary that \n",
    "# specifies \n",
    "# what function to perform on each column. \n",
    "# We can create a Multi-level dict: column name, for each column specify the \n",
    "# function name and the function. \n",
    "\n",
    "aggregations = {\n",
    "    # The column to aggregate on is dep_type\n",
    "    'dep_type':{\n",
    "        # function name is dep_rate and function is sum/total\n",
    "        'dep_rate': lambda x: sum(x)/len(x),\n",
    "        # can add other functions here\n",
    "    }\n",
    "    # can add other columns here \n",
    "}"
   ]
  },
  {
   "cell_type": "code",
   "execution_count": 24,
   "metadata": {},
   "outputs": [
    {
     "data": {
      "text/html": [
       "<div>\n",
       "<table border=\"1\" class=\"dataframe\">\n",
       "  <thead>\n",
       "    <tr>\n",
       "      <th></th>\n",
       "      <th>dep_type</th>\n",
       "    </tr>\n",
       "    <tr>\n",
       "      <th></th>\n",
       "      <th>dep_rate</th>\n",
       "    </tr>\n",
       "    <tr>\n",
       "      <th>origin</th>\n",
       "      <th></th>\n",
       "    </tr>\n",
       "  </thead>\n",
       "  <tbody>\n",
       "    <tr>\n",
       "      <th>LGA</th>\n",
       "      <td>0.727923</td>\n",
       "    </tr>\n",
       "    <tr>\n",
       "      <th>JFK</th>\n",
       "      <td>0.693585</td>\n",
       "    </tr>\n",
       "    <tr>\n",
       "      <th>EWR</th>\n",
       "      <td>0.636989</td>\n",
       "    </tr>\n",
       "  </tbody>\n",
       "</table>\n",
       "</div>"
      ],
      "text/plain": [
       "        dep_type\n",
       "        dep_rate\n",
       "origin          \n",
       "LGA     0.727923\n",
       "JFK     0.693585\n",
       "EWR     0.636989"
      ]
     },
     "execution_count": 24,
     "metadata": {},
     "output_type": "execute_result"
    }
   ],
   "source": [
    "# apply the aggregate function and store it\n",
    "s = group_origin.agg(aggregations)\n",
    "# multi-level now 0th column, 0th level\n",
    "s.sortlevel([0,0], ascending=False)\n"
   ]
  },
  {
   "cell_type": "code",
   "execution_count": 25,
   "metadata": {},
   "outputs": [
    {
     "data": {
      "text/plain": [
       "<seaborn.axisgrid.FacetGrid at 0x1194153d0>"
      ]
     },
     "execution_count": 25,
     "metadata": {},
     "output_type": "execute_result"
    },
    {
     "data": {
      "image/png": "[encoded data removed]",
      "text/plain": [
       "<matplotlib.figure.Figure at 0x11ce99dd0>"
      ]
     },
     "metadata": {},
     "output_type": "display_data"
    }
   ],
   "source": [
    "# We can visualize this with a factor plot\n",
    "sns.factorplot(\"origin\", hue='dep_type', kind=\"count\", data=nycflights)"
   ]
  },
  {
   "cell_type": "code",
   "execution_count": 26,
   "metadata": {},
   "outputs": [],
   "source": [
    "# Let us modify the aggregation function by adding a new function on dep_type and a new column\n",
    "aggregations2 = {\n",
    "    # The column to aggregate on is dep_type\n",
    "    'dep_type':{\n",
    "        # function name is dep_rate and function is sum/total\n",
    "        'dep_rate': lambda x: sum(x)/len(x),\n",
    "        'intime': 'sum'\n",
    "    },\n",
    "    'arr_delay':{\n",
    "        'tot_arr_delay': 'sum'\n",
    "    }\n",
    "}"
   ]
  },
  {
   "cell_type": "code",
   "execution_count": 27,
   "metadata": {
    "collapsed": true
   },
   "outputs": [],
   "source": [
    "# apply the aggregate function and store it\n",
    "s = group_origin.agg(aggregations2)"
   ]
  },
  {
   "cell_type": "code",
   "execution_count": 28,
   "metadata": {},
   "outputs": [
    {
     "data": {
      "text/html": [
       "<div>\n",
       "<table border=\"1\" class=\"dataframe\">\n",
       "  <thead>\n",
       "    <tr>\n",
       "      <th></th>\n",
       "      <th>arr_delay</th>\n",
       "      <th colspan=\"2\" halign=\"left\">dep_type</th>\n",
       "    </tr>\n",
       "    <tr>\n",
       "      <th></th>\n",
       "      <th>tot_arr_delay</th>\n",
       "      <th>dep_rate</th>\n",
       "      <th>intime</th>\n",
       "    </tr>\n",
       "    <tr>\n",
       "      <th>origin</th>\n",
       "      <th></th>\n",
       "      <th></th>\n",
       "      <th></th>\n",
       "    </tr>\n",
       "  </thead>\n",
       "  <tbody>\n",
       "    <tr>\n",
       "      <th>EWR</th>\n",
       "      <td>109786</td>\n",
       "      <td>0.636989</td>\n",
       "      <td>7498</td>\n",
       "    </tr>\n",
       "    <tr>\n",
       "      <th>JFK</th>\n",
       "      <td>65206</td>\n",
       "      <td>0.693585</td>\n",
       "      <td>7558</td>\n",
       "    </tr>\n",
       "    <tr>\n",
       "      <th>LGA</th>\n",
       "      <td>57453</td>\n",
       "      <td>0.727923</td>\n",
       "      <td>7328</td>\n",
       "    </tr>\n",
       "  </tbody>\n",
       "</table>\n",
       "</div>"
      ],
      "text/plain": [
       "           arr_delay  dep_type       \n",
       "       tot_arr_delay  dep_rate intime\n",
       "origin                               \n",
       "EWR           109786  0.636989   7498\n",
       "JFK            65206  0.693585   7558\n",
       "LGA            57453  0.727923   7328"
      ]
     },
     "execution_count": 28,
     "metadata": {},
     "output_type": "execute_result"
    }
   ],
   "source": [
    "s"
   ]
  },
  {
   "cell_type": "code",
   "execution_count": 29,
   "metadata": {},
   "outputs": [
    {
     "data": {
      "text/html": [
       "<div>\n",
       "<table border=\"1\" class=\"dataframe\">\n",
       "  <thead>\n",
       "    <tr>\n",
       "      <th></th>\n",
       "      <th>arr_delay</th>\n",
       "      <th colspan=\"2\" halign=\"left\">dep_type</th>\n",
       "    </tr>\n",
       "    <tr>\n",
       "      <th></th>\n",
       "      <th>tot_arr_delay</th>\n",
       "      <th>dep_rate</th>\n",
       "      <th>intime</th>\n",
       "    </tr>\n",
       "    <tr>\n",
       "      <th>origin</th>\n",
       "      <th></th>\n",
       "      <th></th>\n",
       "      <th></th>\n",
       "    </tr>\n",
       "  </thead>\n",
       "  <tbody>\n",
       "    <tr>\n",
       "      <th>LGA</th>\n",
       "      <td>57453</td>\n",
       "      <td>0.727923</td>\n",
       "      <td>7328</td>\n",
       "    </tr>\n",
       "    <tr>\n",
       "      <th>JFK</th>\n",
       "      <td>65206</td>\n",
       "      <td>0.693585</td>\n",
       "      <td>7558</td>\n",
       "    </tr>\n",
       "    <tr>\n",
       "      <th>EWR</th>\n",
       "      <td>109786</td>\n",
       "      <td>0.636989</td>\n",
       "      <td>7498</td>\n",
       "    </tr>\n",
       "  </tbody>\n",
       "</table>\n",
       "</div>"
      ],
      "text/plain": [
       "           arr_delay  dep_type       \n",
       "       tot_arr_delay  dep_rate intime\n",
       "origin                               \n",
       "LGA            57453  0.727923   7328\n",
       "JFK            65206  0.693585   7558\n",
       "EWR           109786  0.636989   7498"
      ]
     },
     "execution_count": 29,
     "metadata": {},
     "output_type": "execute_result"
    }
   ],
   "source": [
    "# Let us sort by dep_type intime\n",
    "s.sortlevel(['intime'], ascending=False)"
   ]
  },
  {
   "cell_type": "code",
   "execution_count": 30,
   "metadata": {},
   "outputs": [
    {
     "data": {
      "text/plain": [
       "MultiIndex(levels=[[u'arr_delay', u'dep_type'], [u'dep_rate', u'intime', u'tot_arr_delay']],\n",
       "           labels=[[0, 1, 1], [2, 0, 1]])"
      ]
     },
     "execution_count": 30,
     "metadata": {},
     "output_type": "execute_result"
    }
   ],
   "source": [
    "s.columns"
   ]
  },
  {
   "cell_type": "code",
   "execution_count": null,
   "metadata": {
    "collapsed": true
   },
   "outputs": [],
   "source": []
  }
 ],
 "metadata": {
  "kernelspec": {
   "display_name": "Python 3",
   "language": "python",
   "name": "python3"
  },
  "language_info": {
   "codemirror_mode": {
    "name": "ipython",
    "version": 3
   },
   "file_extension": ".py",
   "mimetype": "text/x-python",
   "name": "python",
   "nbconvert_exporter": "python",
   "pygments_lexer": "ipython3",
   "version": "3.6.1"
  }
 },
 "nbformat": 4,
 "nbformat_minor": 1
}
