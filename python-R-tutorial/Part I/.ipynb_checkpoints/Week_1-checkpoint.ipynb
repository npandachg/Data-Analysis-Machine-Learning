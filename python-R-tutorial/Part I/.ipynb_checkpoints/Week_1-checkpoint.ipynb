{
 "cells": [
  {
   "cell_type": "markdown",
   "metadata": {},
   "source": [
    "Content from https://github.com/StatsWithR\n",
    "and https://www.coursera.org/specializations/statistics,\n",
    "data from https://github.com/StatsWithR/statsr\n",
    "\n",
    "Python Data analysis tutorial for part I/week 1 in Statistics with R/Coursera"
   ]
  },
  {
   "cell_type": "code",
   "execution_count": 6,
   "metadata": {
    "collapsed": true
   },
   "outputs": [],
   "source": [
    "# All your imports\n",
    "import pandas as pd\n",
    "from pandas import Series,DataFrame\n",
    "import numpy as np"
   ]
  },
  {
   "cell_type": "markdown",
   "metadata": {},
   "source": [
    "Loading data into a dataframe. A data frame is a matrix of size N x p with N rows and p columns.\n",
    "Each row is an observations and each column is an attribute (variable).\n",
    "We use read_csv to read comma separted values file into a dataframe"
   ]
  },
  {
   "cell_type": "markdown",
   "metadata": {},
   "source": [
    "arbuthnot Baptism record from https://github.com/StatsWithR/statsr/tree/master/data"
   ]
  },
  {
   "cell_type": "code",
   "execution_count": 7,
   "metadata": {
    "collapsed": false
   },
   "outputs": [],
   "source": [
    "arbuthnot = pd.read_csv(\"../../data-files/arbuthnot.csv\")"
   ]
  },
  {
   "cell_type": "code",
   "execution_count": 8,
   "metadata": {
    "collapsed": false
   },
   "outputs": [
    {
     "name": "stdout",
     "output_type": "stream",
     "text": [
      "<class 'pandas.core.frame.DataFrame'>\n",
      "RangeIndex: 82 entries, 0 to 81\n",
      "Data columns (total 4 columns):\n",
      "Unnamed: 0    82 non-null int64\n",
      "year          82 non-null int64\n",
      "boys          82 non-null int64\n",
      "girls         82 non-null int64\n",
      "dtypes: int64(4)\n",
      "memory usage: 2.6 KB\n"
     ]
    }
   ],
   "source": [
    "# Get the basic info using the .info() method. We see the data has 4 columns and 82 observations.\n",
    "arbuthnot.info()"
   ]
  },
  {
   "cell_type": "code",
   "execution_count": 9,
   "metadata": {
    "collapsed": false
   },
   "outputs": [
    {
     "data": {
      "text/html": [
       "<div>\n",
       "<table border=\"1\" class=\"dataframe\">\n",
       "  <thead>\n",
       "    <tr style=\"text-align: right;\">\n",
       "      <th></th>\n",
       "      <th>Unnamed: 0</th>\n",
       "      <th>year</th>\n",
       "      <th>boys</th>\n",
       "      <th>girls</th>\n",
       "    </tr>\n",
       "  </thead>\n",
       "  <tbody>\n",
       "    <tr>\n",
       "      <th>0</th>\n",
       "      <td>1</td>\n",
       "      <td>1629</td>\n",
       "      <td>5218</td>\n",
       "      <td>4683</td>\n",
       "    </tr>\n",
       "    <tr>\n",
       "      <th>1</th>\n",
       "      <td>2</td>\n",
       "      <td>1630</td>\n",
       "      <td>4858</td>\n",
       "      <td>4457</td>\n",
       "    </tr>\n",
       "    <tr>\n",
       "      <th>2</th>\n",
       "      <td>3</td>\n",
       "      <td>1631</td>\n",
       "      <td>4422</td>\n",
       "      <td>4102</td>\n",
       "    </tr>\n",
       "    <tr>\n",
       "      <th>3</th>\n",
       "      <td>4</td>\n",
       "      <td>1632</td>\n",
       "      <td>4994</td>\n",
       "      <td>4590</td>\n",
       "    </tr>\n",
       "    <tr>\n",
       "      <th>4</th>\n",
       "      <td>5</td>\n",
       "      <td>1633</td>\n",
       "      <td>5158</td>\n",
       "      <td>4839</td>\n",
       "    </tr>\n",
       "  </tbody>\n",
       "</table>\n",
       "</div>"
      ],
      "text/plain": [
       "   Unnamed: 0  year  boys  girls\n",
       "0           1  1629  5218   4683\n",
       "1           2  1630  4858   4457\n",
       "2           3  1631  4422   4102\n",
       "3           4  1632  4994   4590\n",
       "4           5  1633  5158   4839"
      ]
     },
     "execution_count": 9,
     "metadata": {},
     "output_type": "execute_result"
    }
   ],
   "source": [
    "# Let preview the data\n",
    "arbuthnot.head()"
   ]
  },
  {
   "cell_type": "code",
   "execution_count": 10,
   "metadata": {
    "collapsed": false
   },
   "outputs": [
    {
     "data": {
      "text/plain": [
       "Index([u'Unnamed: 0', u'year', u'boys', u'girls'], dtype='object')"
      ]
     },
     "execution_count": 10,
     "metadata": {},
     "output_type": "execute_result"
    }
   ],
   "source": [
    "# The unamed column is just R indexing. Let us drop that column\n",
    "# First let us find the exact column names\n",
    "arbuthnot.columns"
   ]
  },
  {
   "cell_type": "code",
   "execution_count": 11,
   "metadata": {
    "collapsed": true
   },
   "outputs": [],
   "source": [
    "# delete a column\n",
    "del(arbuthnot['Unnamed: 0'])"
   ]
  },
  {
   "cell_type": "code",
   "execution_count": 12,
   "metadata": {
    "collapsed": false
   },
   "outputs": [
    {
     "data": {
      "text/html": [
       "<div>\n",
       "<table border=\"1\" class=\"dataframe\">\n",
       "  <thead>\n",
       "    <tr style=\"text-align: right;\">\n",
       "      <th></th>\n",
       "      <th>year</th>\n",
       "      <th>boys</th>\n",
       "      <th>girls</th>\n",
       "    </tr>\n",
       "  </thead>\n",
       "  <tbody>\n",
       "    <tr>\n",
       "      <th>0</th>\n",
       "      <td>1629</td>\n",
       "      <td>5218</td>\n",
       "      <td>4683</td>\n",
       "    </tr>\n",
       "    <tr>\n",
       "      <th>1</th>\n",
       "      <td>1630</td>\n",
       "      <td>4858</td>\n",
       "      <td>4457</td>\n",
       "    </tr>\n",
       "    <tr>\n",
       "      <th>2</th>\n",
       "      <td>1631</td>\n",
       "      <td>4422</td>\n",
       "      <td>4102</td>\n",
       "    </tr>\n",
       "    <tr>\n",
       "      <th>3</th>\n",
       "      <td>1632</td>\n",
       "      <td>4994</td>\n",
       "      <td>4590</td>\n",
       "    </tr>\n",
       "    <tr>\n",
       "      <th>4</th>\n",
       "      <td>1633</td>\n",
       "      <td>5158</td>\n",
       "      <td>4839</td>\n",
       "    </tr>\n",
       "  </tbody>\n",
       "</table>\n",
       "</div>"
      ],
      "text/plain": [
       "   year  boys  girls\n",
       "0  1629  5218   4683\n",
       "1  1630  4858   4457\n",
       "2  1631  4422   4102\n",
       "3  1632  4994   4590\n",
       "4  1633  5158   4839"
      ]
     },
     "execution_count": 12,
     "metadata": {},
     "output_type": "execute_result"
    }
   ],
   "source": [
    "# preview again\n",
    "arbuthnot.head()"
   ]
  },
  {
   "cell_type": "markdown",
   "metadata": {},
   "source": [
    "In pandas, the default indexing is by numbers. Let us change that to have the year as the \n",
    "index. An index is a label for the row (observation). "
   ]
  },
  {
   "cell_type": "code",
   "execution_count": 13,
   "metadata": {
    "collapsed": false
   },
   "outputs": [],
   "source": [
    "# make the year column the index for this data set.\n",
    "arbuthnot = arbuthnot.set_index('year')"
   ]
  },
  {
   "cell_type": "code",
   "execution_count": 14,
   "metadata": {
    "collapsed": false
   },
   "outputs": [
    {
     "data": {
      "text/html": [
       "<div>\n",
       "<table border=\"1\" class=\"dataframe\">\n",
       "  <thead>\n",
       "    <tr style=\"text-align: right;\">\n",
       "      <th></th>\n",
       "      <th>boys</th>\n",
       "      <th>girls</th>\n",
       "    </tr>\n",
       "    <tr>\n",
       "      <th>year</th>\n",
       "      <th></th>\n",
       "      <th></th>\n",
       "    </tr>\n",
       "  </thead>\n",
       "  <tbody>\n",
       "    <tr>\n",
       "      <th>1629</th>\n",
       "      <td>5218</td>\n",
       "      <td>4683</td>\n",
       "    </tr>\n",
       "    <tr>\n",
       "      <th>1630</th>\n",
       "      <td>4858</td>\n",
       "      <td>4457</td>\n",
       "    </tr>\n",
       "    <tr>\n",
       "      <th>1631</th>\n",
       "      <td>4422</td>\n",
       "      <td>4102</td>\n",
       "    </tr>\n",
       "    <tr>\n",
       "      <th>1632</th>\n",
       "      <td>4994</td>\n",
       "      <td>4590</td>\n",
       "    </tr>\n",
       "    <tr>\n",
       "      <th>1633</th>\n",
       "      <td>5158</td>\n",
       "      <td>4839</td>\n",
       "    </tr>\n",
       "  </tbody>\n",
       "</table>\n",
       "</div>"
      ],
      "text/plain": [
       "      boys  girls\n",
       "year             \n",
       "1629  5218   4683\n",
       "1630  4858   4457\n",
       "1631  4422   4102\n",
       "1632  4994   4590\n",
       "1633  5158   4839"
      ]
     },
     "execution_count": 14,
     "metadata": {},
     "output_type": "execute_result"
    }
   ],
   "source": [
    "# preview again\n",
    "arbuthnot.head()"
   ]
  },
  {
   "cell_type": "code",
   "execution_count": 15,
   "metadata": {
    "collapsed": false
   },
   "outputs": [
    {
     "data": {
      "text/plain": [
       "(82, 2)"
      ]
     },
     "execution_count": 15,
     "metadata": {},
     "output_type": "execute_result"
    }
   ],
   "source": [
    "# Find the dimension of the data set N x p\n",
    "np.shape(arbuthnot)"
   ]
  },
  {
   "cell_type": "code",
   "execution_count": 16,
   "metadata": {
    "collapsed": false
   },
   "outputs": [
    {
     "data": {
      "text/plain": [
       "year\n",
       "1629    5218\n",
       "1630    4858\n",
       "1631    4422\n",
       "1632    4994\n",
       "1633    5158\n",
       "1634    5035\n",
       "1635    5106\n",
       "1636    4917\n",
       "1637    4703\n",
       "1638    5359\n",
       "1639    5366\n",
       "1640    5518\n",
       "1641    5470\n",
       "1642    5460\n",
       "1643    4793\n",
       "1644    4107\n",
       "1645    4047\n",
       "1646    3768\n",
       "1647    3796\n",
       "1648    3363\n",
       "1649    3079\n",
       "1650    2890\n",
       "1651    3231\n",
       "1652    3220\n",
       "1653    3196\n",
       "1654    3441\n",
       "1655    3655\n",
       "1656    3668\n",
       "1657    3396\n",
       "1658    3157\n",
       "        ... \n",
       "1681    6822\n",
       "1682    6909\n",
       "1683    7577\n",
       "1684    7575\n",
       "1685    7484\n",
       "1686    7575\n",
       "1687    7737\n",
       "1688    7487\n",
       "1689    7604\n",
       "1690    7909\n",
       "1691    7662\n",
       "1692    7602\n",
       "1693    7676\n",
       "1694    6985\n",
       "1695    7263\n",
       "1696    7632\n",
       "1697    8062\n",
       "1698    8426\n",
       "1699    7911\n",
       "1700    7578\n",
       "1701    8102\n",
       "1702    8031\n",
       "1703    7765\n",
       "1704    6113\n",
       "1705    8366\n",
       "1706    7952\n",
       "1707    8379\n",
       "1708    8239\n",
       "1709    7840\n",
       "1710    7640\n",
       "Name: boys, dtype: int64"
      ]
     },
     "execution_count": 16,
     "metadata": {},
     "output_type": "execute_result"
    }
   ],
   "source": [
    "# access a given column Find the column names using arbuthnot.columns\n",
    "arbuthnot['boys']"
   ]
  },
  {
   "cell_type": "code",
   "execution_count": 17,
   "metadata": {
    "collapsed": false
   },
   "outputs": [
    {
     "data": {
      "text/html": [
       "<div>\n",
       "<table border=\"1\" class=\"dataframe\">\n",
       "  <thead>\n",
       "    <tr style=\"text-align: right;\">\n",
       "      <th></th>\n",
       "      <th>boys</th>\n",
       "      <th>girls</th>\n",
       "    </tr>\n",
       "    <tr>\n",
       "      <th>year</th>\n",
       "      <th></th>\n",
       "      <th></th>\n",
       "    </tr>\n",
       "  </thead>\n",
       "  <tbody>\n",
       "    <tr>\n",
       "      <th>1629</th>\n",
       "      <td>5218</td>\n",
       "      <td>4683</td>\n",
       "    </tr>\n",
       "    <tr>\n",
       "      <th>1630</th>\n",
       "      <td>4858</td>\n",
       "      <td>4457</td>\n",
       "    </tr>\n",
       "    <tr>\n",
       "      <th>1631</th>\n",
       "      <td>4422</td>\n",
       "      <td>4102</td>\n",
       "    </tr>\n",
       "    <tr>\n",
       "      <th>1632</th>\n",
       "      <td>4994</td>\n",
       "      <td>4590</td>\n",
       "    </tr>\n",
       "    <tr>\n",
       "      <th>1633</th>\n",
       "      <td>5158</td>\n",
       "      <td>4839</td>\n",
       "    </tr>\n",
       "  </tbody>\n",
       "</table>\n",
       "</div>"
      ],
      "text/plain": [
       "      boys  girls\n",
       "year             \n",
       "1629  5218   4683\n",
       "1630  4858   4457\n",
       "1631  4422   4102\n",
       "1632  4994   4590\n",
       "1633  5158   4839"
      ]
     },
     "execution_count": 17,
     "metadata": {},
     "output_type": "execute_result"
    }
   ],
   "source": [
    "# In pandas row access is like array. The next line shows the first 5 rows\n",
    "arbuthnot[:5]"
   ]
  },
  {
   "cell_type": "code",
   "execution_count": 18,
   "metadata": {
    "collapsed": false
   },
   "outputs": [
    {
     "data": {
      "text/plain": [
       "year\n",
       "1629    5218\n",
       "1630    4858\n",
       "1631    4422\n",
       "1632    4994\n",
       "1633    5158\n",
       "Name: boys, dtype: int64"
      ]
     },
     "execution_count": 18,
     "metadata": {},
     "output_type": "execute_result"
    }
   ],
   "source": [
    "# Similary, we can access the row for any column type. The next line shows first 5 rows for the\n",
    "# boys column\n",
    "arbuthnot['boys'][:5]"
   ]
  },
  {
   "cell_type": "code",
   "execution_count": 19,
   "metadata": {
    "collapsed": true
   },
   "outputs": [],
   "source": [
    "# How would you extract the girls column ? Type in this code block and do: shift + return"
   ]
  },
  {
   "cell_type": "code",
   "execution_count": 20,
   "metadata": {
    "collapsed": true
   },
   "outputs": [],
   "source": [
    "# Plotting a column is easy. We need the matplotlib package. Add inline command to plot in Jupyter\n",
    "from matplotlib import *\n",
    "%matplotlib inline"
   ]
  },
  {
   "cell_type": "code",
   "execution_count": 21,
   "metadata": {
    "collapsed": false
   },
   "outputs": [
    {
     "data": {
      "text/plain": [
       "<matplotlib.axes._subplots.AxesSubplot at 0x114898710>"
      ]
     },
     "execution_count": 21,
     "metadata": {},
     "output_type": "execute_result"
    },
    {
     "data": {
      "image/png": "[encoded data removed]",
      "text/plain": [
       "<matplotlib.figure.Figure at 0x113c278d0>"
      ]
     },
     "metadata": {},
     "output_type": "display_data"
    }
   ],
   "source": [
    "arbuthnot['girls'].plot(figsize=(15,10))"
   ]
  },
  {
   "cell_type": "code",
   "execution_count": 22,
   "metadata": {
    "collapsed": true
   },
   "outputs": [],
   "source": [
    "# add a new column total\n",
    "arbuthnot['total'] = arbuthnot['boys'] + arbuthnot['girls']"
   ]
  },
  {
   "cell_type": "code",
   "execution_count": 23,
   "metadata": {
    "collapsed": false
   },
   "outputs": [
    {
     "data": {
      "text/html": [
       "<div>\n",
       "<table border=\"1\" class=\"dataframe\">\n",
       "  <thead>\n",
       "    <tr style=\"text-align: right;\">\n",
       "      <th></th>\n",
       "      <th>boys</th>\n",
       "      <th>girls</th>\n",
       "      <th>total</th>\n",
       "    </tr>\n",
       "    <tr>\n",
       "      <th>year</th>\n",
       "      <th></th>\n",
       "      <th></th>\n",
       "      <th></th>\n",
       "    </tr>\n",
       "  </thead>\n",
       "  <tbody>\n",
       "    <tr>\n",
       "      <th>1629</th>\n",
       "      <td>5218</td>\n",
       "      <td>4683</td>\n",
       "      <td>9901</td>\n",
       "    </tr>\n",
       "    <tr>\n",
       "      <th>1630</th>\n",
       "      <td>4858</td>\n",
       "      <td>4457</td>\n",
       "      <td>9315</td>\n",
       "    </tr>\n",
       "    <tr>\n",
       "      <th>1631</th>\n",
       "      <td>4422</td>\n",
       "      <td>4102</td>\n",
       "      <td>8524</td>\n",
       "    </tr>\n",
       "    <tr>\n",
       "      <th>1632</th>\n",
       "      <td>4994</td>\n",
       "      <td>4590</td>\n",
       "      <td>9584</td>\n",
       "    </tr>\n",
       "    <tr>\n",
       "      <th>1633</th>\n",
       "      <td>5158</td>\n",
       "      <td>4839</td>\n",
       "      <td>9997</td>\n",
       "    </tr>\n",
       "  </tbody>\n",
       "</table>\n",
       "</div>"
      ],
      "text/plain": [
       "      boys  girls  total\n",
       "year                    \n",
       "1629  5218   4683   9901\n",
       "1630  4858   4457   9315\n",
       "1631  4422   4102   8524\n",
       "1632  4994   4590   9584\n",
       "1633  5158   4839   9997"
      ]
     },
     "execution_count": 23,
     "metadata": {},
     "output_type": "execute_result"
    }
   ],
   "source": [
    "arbuthnot.head()"
   ]
  },
  {
   "cell_type": "code",
   "execution_count": 24,
   "metadata": {
    "collapsed": false
   },
   "outputs": [
    {
     "data": {
      "text/plain": [
       "year\n",
       "1629    True\n",
       "1630    True\n",
       "1631    True\n",
       "1632    True\n",
       "1633    True\n",
       "1634    True\n",
       "1635    True\n",
       "1636    True\n",
       "1637    True\n",
       "1638    True\n",
       "1639    True\n",
       "1640    True\n",
       "1641    True\n",
       "1642    True\n",
       "1643    True\n",
       "1644    True\n",
       "1645    True\n",
       "1646    True\n",
       "1647    True\n",
       "1648    True\n",
       "1649    True\n",
       "1650    True\n",
       "1651    True\n",
       "1652    True\n",
       "1653    True\n",
       "1654    True\n",
       "1655    True\n",
       "1656    True\n",
       "1657    True\n",
       "1658    True\n",
       "        ... \n",
       "1681    True\n",
       "1682    True\n",
       "1683    True\n",
       "1684    True\n",
       "1685    True\n",
       "1686    True\n",
       "1687    True\n",
       "1688    True\n",
       "1689    True\n",
       "1690    True\n",
       "1691    True\n",
       "1692    True\n",
       "1693    True\n",
       "1694    True\n",
       "1695    True\n",
       "1696    True\n",
       "1697    True\n",
       "1698    True\n",
       "1699    True\n",
       "1700    True\n",
       "1701    True\n",
       "1702    True\n",
       "1703    True\n",
       "1704    True\n",
       "1705    True\n",
       "1706    True\n",
       "1707    True\n",
       "1708    True\n",
       "1709    True\n",
       "1710    True\n",
       "dtype: bool"
      ]
     },
     "execution_count": 24,
     "metadata": {},
     "output_type": "execute_result"
    }
   ],
   "source": [
    "# boolean variables can also be created. Let us see if there were more boys than girls in \n",
    "# each year.\n",
    "arbuthnot['boys'] > arbuthnot['girls']"
   ]
  },
  {
   "cell_type": "code",
   "execution_count": 25,
   "metadata": {
    "collapsed": true
   },
   "outputs": [],
   "source": [
    "# This created a boolean array. We can make a new column out of it\n",
    "arbuthnot['more_boys'] = arbuthnot['boys'] > arbuthnot['girls'] "
   ]
  },
  {
   "cell_type": "code",
   "execution_count": 26,
   "metadata": {
    "collapsed": false
   },
   "outputs": [
    {
     "data": {
      "text/html": [
       "<div>\n",
       "<table border=\"1\" class=\"dataframe\">\n",
       "  <thead>\n",
       "    <tr style=\"text-align: right;\">\n",
       "      <th></th>\n",
       "      <th>boys</th>\n",
       "      <th>girls</th>\n",
       "      <th>total</th>\n",
       "      <th>more_boys</th>\n",
       "    </tr>\n",
       "    <tr>\n",
       "      <th>year</th>\n",
       "      <th></th>\n",
       "      <th></th>\n",
       "      <th></th>\n",
       "      <th></th>\n",
       "    </tr>\n",
       "  </thead>\n",
       "  <tbody>\n",
       "    <tr>\n",
       "      <th>1629</th>\n",
       "      <td>5218</td>\n",
       "      <td>4683</td>\n",
       "      <td>9901</td>\n",
       "      <td>True</td>\n",
       "    </tr>\n",
       "    <tr>\n",
       "      <th>1630</th>\n",
       "      <td>4858</td>\n",
       "      <td>4457</td>\n",
       "      <td>9315</td>\n",
       "      <td>True</td>\n",
       "    </tr>\n",
       "    <tr>\n",
       "      <th>1631</th>\n",
       "      <td>4422</td>\n",
       "      <td>4102</td>\n",
       "      <td>8524</td>\n",
       "      <td>True</td>\n",
       "    </tr>\n",
       "    <tr>\n",
       "      <th>1632</th>\n",
       "      <td>4994</td>\n",
       "      <td>4590</td>\n",
       "      <td>9584</td>\n",
       "      <td>True</td>\n",
       "    </tr>\n",
       "    <tr>\n",
       "      <th>1633</th>\n",
       "      <td>5158</td>\n",
       "      <td>4839</td>\n",
       "      <td>9997</td>\n",
       "      <td>True</td>\n",
       "    </tr>\n",
       "  </tbody>\n",
       "</table>\n",
       "</div>"
      ],
      "text/plain": [
       "      boys  girls  total more_boys\n",
       "year                              \n",
       "1629  5218   4683   9901      True\n",
       "1630  4858   4457   9315      True\n",
       "1631  4422   4102   8524      True\n",
       "1632  4994   4590   9584      True\n",
       "1633  5158   4839   9997      True"
      ]
     },
     "execution_count": 26,
     "metadata": {},
     "output_type": "execute_result"
    }
   ],
   "source": [
    "# preview\n",
    "arbuthnot.head()"
   ]
  },
  {
   "cell_type": "code",
   "execution_count": 27,
   "metadata": {
    "collapsed": false
   },
   "outputs": [
    {
     "data": {
      "text/html": [
       "<div>\n",
       "<table border=\"1\" class=\"dataframe\">\n",
       "  <thead>\n",
       "    <tr style=\"text-align: right;\">\n",
       "      <th></th>\n",
       "      <th>boys</th>\n",
       "      <th>girls</th>\n",
       "      <th>total</th>\n",
       "      <th>more_boys</th>\n",
       "    </tr>\n",
       "    <tr>\n",
       "      <th>year</th>\n",
       "      <th></th>\n",
       "      <th></th>\n",
       "      <th></th>\n",
       "      <th></th>\n",
       "    </tr>\n",
       "  </thead>\n",
       "  <tbody>\n",
       "    <tr>\n",
       "      <th>1629</th>\n",
       "      <td>5218</td>\n",
       "      <td>4683</td>\n",
       "      <td>9901</td>\n",
       "      <td>True</td>\n",
       "    </tr>\n",
       "    <tr>\n",
       "      <th>1630</th>\n",
       "      <td>4858</td>\n",
       "      <td>4457</td>\n",
       "      <td>9315</td>\n",
       "      <td>True</td>\n",
       "    </tr>\n",
       "    <tr>\n",
       "      <th>1631</th>\n",
       "      <td>4422</td>\n",
       "      <td>4102</td>\n",
       "      <td>8524</td>\n",
       "      <td>True</td>\n",
       "    </tr>\n",
       "    <tr>\n",
       "      <th>1632</th>\n",
       "      <td>4994</td>\n",
       "      <td>4590</td>\n",
       "      <td>9584</td>\n",
       "      <td>True</td>\n",
       "    </tr>\n",
       "    <tr>\n",
       "      <th>1633</th>\n",
       "      <td>5158</td>\n",
       "      <td>4839</td>\n",
       "      <td>9997</td>\n",
       "      <td>True</td>\n",
       "    </tr>\n",
       "  </tbody>\n",
       "</table>\n",
       "</div>"
      ],
      "text/plain": [
       "      boys  girls  total more_boys\n",
       "year                              \n",
       "1629  5218   4683   9901      True\n",
       "1630  4858   4457   9315      True\n",
       "1631  4422   4102   8524      True\n",
       "1632  4994   4590   9584      True\n",
       "1633  5158   4839   9997      True"
      ]
     },
     "execution_count": 27,
     "metadata": {},
     "output_type": "execute_result"
    }
   ],
   "source": [
    "#Can we select those entries in which there were more boys than girls\n",
    "# First create a boolean array\n",
    "more_boys = arbuthnot['boys'] > arbuthnot['girls'] \n",
    "# access the data frame with this array and preview the first 5\n",
    "arbuthnot[more_boys][:5]"
   ]
  },
  {
   "cell_type": "code",
   "execution_count": 28,
   "metadata": {
    "collapsed": false
   },
   "outputs": [
    {
     "data": {
      "text/html": [
       "<div>\n",
       "<table border=\"1\" class=\"dataframe\">\n",
       "  <thead>\n",
       "    <tr style=\"text-align: right;\">\n",
       "      <th></th>\n",
       "      <th>boys</th>\n",
       "      <th>girls</th>\n",
       "      <th>total</th>\n",
       "      <th>more_boys</th>\n",
       "    </tr>\n",
       "    <tr>\n",
       "      <th>year</th>\n",
       "      <th></th>\n",
       "      <th></th>\n",
       "      <th></th>\n",
       "      <th></th>\n",
       "    </tr>\n",
       "  </thead>\n",
       "  <tbody>\n",
       "  </tbody>\n",
       "</table>\n",
       "</div>"
      ],
      "text/plain": [
       "Empty DataFrame\n",
       "Columns: [boys, girls, total, more_boys]\n",
       "Index: []"
      ]
     },
     "execution_count": 28,
     "metadata": {},
     "output_type": "execute_result"
    }
   ],
   "source": [
    "# what about more girls ? We use bitwise negation. \n",
    "# In python bitwise and, or, not are represented by &, |, ~\n",
    "arbuthnot[~more_boys][:5]"
   ]
  },
  {
   "cell_type": "code",
   "execution_count": 29,
   "metadata": {
    "collapsed": true
   },
   "outputs": [],
   "source": [
    "# Ha in no year in this data frame were more girls baptized than boys. "
   ]
  }
 ],
 "metadata": {
  "kernelspec": {
   "display_name": "Python 2",
   "language": "python",
   "name": "python2"
  },
  "language_info": {
   "codemirror_mode": {
    "name": "ipython",
    "version": 2
   },
   "file_extension": ".py",
   "mimetype": "text/x-python",
   "name": "python",
   "nbconvert_exporter": "python",
   "pygments_lexer": "ipython2",
   "version": "2.7.11"
  }
 },
 "nbformat": 4,
 "nbformat_minor": 0
}
